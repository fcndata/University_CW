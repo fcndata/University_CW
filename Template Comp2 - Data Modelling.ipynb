{
 "cells": [
  {
   "cell_type": "markdown",
   "metadata": {},
   "source": [
    "# CST4050 - Individual Assessment (comp 2)\n",
    "\n",
    "**Student**:\n",
    "\n",
    "- Name: Facundo \n",
    "- Surname: Toneguzzo\n",
    "- Student number: M00896781\n",
    "- Campus: Hendon Campus"
   ]
  },
  {
   "cell_type": "markdown",
   "metadata": {},
   "source": [
    "> **Important**.  \n",
    "Your submission will be mainly evaluated according to your comments and not only according to the submitted code. Keep in mind that a correct code that is not well discussed, well justified and well documented will be badly evaluated.\n",
    "\n",
    "> **How to export your notebook in PDF**.  \n",
    "To export your Notebook in PDF you need to perform the following steps: \n",
    "- Save Jupyter as HTML with \"*File*\"-> \"*Export Notebook As ...*\"-> \"*Export Notebook to HTML*\".\n",
    "- Open the HTML file in your browser. Click *Print*.\n",
    "- Change the destination to \"*Save to PDF*\" and click \"*Save*\"."
   ]
  },
  {
   "cell_type": "code",
   "execution_count": 1,
   "metadata": {},
   "outputs": [],
   "source": [
    "import numpy as np\n",
    "import pandas as pd\n",
    "import seaborn as sb\n",
    "import matplotlib.pyplot as plt\n",
    "from sklearn.model_selection import train_test_split\n",
    "from sklearn.model_selection import KFold\n",
    "from sklearn.preprocessing import StandardScaler\n",
    "from sklearn.linear_model import LinearRegression\n",
    "from sklearn.preprocessing import PolynomialFeatures\n",
    "from sklearn.pipeline import Pipeline\n",
    "from sklearn.linear_model import Lasso\n",
    "from sklearn.metrics import mean_squared_error"
   ]
  },
  {
   "cell_type": "markdown",
   "metadata": {},
   "source": [
    "## 1. Loading data and preliminary analysis\n",
    "\n",
    "Load the file `supervised.csv` in Pandas.\n",
    "\n",
    "### 1.1. Checking the target\n",
    "\n",
    "- Examine the *target* attribute, which is the dependent variable `Life_Expectancy`.\n",
    "- Discuss whether the target attribute is numerical or nominal.\n",
    "- Discuss whether the supervised problem is a classification or a regression task.\n",
    "- If the target is numerical, discuss its frequency distribution.\n",
    "- If the target is nominal, discuss whether classes are balanced or not."
   ]
  },
  {
   "cell_type": "markdown",
   "metadata": {},
   "source": [
    "- The outcome \"Life_Expectancy\" is constinuous, so the problem must be solved using Regression."
   ]
  },
  {
   "cell_type": "code",
   "execution_count": 2,
   "metadata": {},
   "outputs": [],
   "source": [
    "df =pd.read_csv (r'supervised.csv')\n",
    "features = pd.DataFrame(df.loc[:, df.columns != 'Life_Expectancy']) \n",
    "outcome = pd.DataFrame(df.loc[:, df.columns == 'Life_Expectancy'])"
   ]
  },
  {
   "cell_type": "markdown",
   "metadata": {},
   "source": [
    "- The feature \"Country\" is categorical, \"Status\" is ordinal and the rest of the attributes are quantitatives."
   ]
  },
  {
   "cell_type": "code",
   "execution_count": 3,
   "metadata": {},
   "outputs": [
    {
     "data": {
      "text/plain": [
       "<bound method NDFrame.head of          Country      Status  Adult Mortality  infant deaths  \\\n",
       "0    Afghanistan  Developing              263             62   \n",
       "1        Albania  Developing               74              0   \n",
       "2        Algeria  Developing               19             21   \n",
       "3         Angola  Developing              335             66   \n",
       "4      Argentina  Developing              116              8   \n",
       "..           ...         ...              ...            ...   \n",
       "125      Uruguay  Developing              116              0   \n",
       "126   Uzbekistan  Developing              184             15   \n",
       "127      Vanuatu  Developing               13              0   \n",
       "128       Zambia  Developing               33             27   \n",
       "129     Zimbabwe  Developing              336             22   \n",
       "\n",
       "     percentage expenditure  Hepatitis B  Measles   BMI  under-five deaths  \\\n",
       "0                 71.279624           65     1154  19.1                 83   \n",
       "1                364.975229           99        0  58.0                  0   \n",
       "2                  0.000000           95       63  59.5                 24   \n",
       "3                  0.000000           64      118  23.3                 98   \n",
       "4                  0.000000           94        0  62.8                  9   \n",
       "..                      ...          ...      ...   ...                ...   \n",
       "125                0.000000           95        0  64.0                  0   \n",
       "126                0.000000           99       22  44.7                 17   \n",
       "127                0.000000           64       39  53.3                  0   \n",
       "128                0.000000            9        9  23.4                 40   \n",
       "129                0.000000           87        0  31.8                 32   \n",
       "\n",
       "     Polio  Diphtheria  HIV/AIDS           GDP  Population  \\\n",
       "0        6          65       0.1    584.259210  33736494.0   \n",
       "1       99          99       0.1   3954.227830     28873.0   \n",
       "2       95          95       0.1   4132.762920  39871528.0   \n",
       "3        7          64       1.9   3695.793748   2785935.0   \n",
       "4       93          94       0.1  13467.123600  43417765.0   \n",
       "..     ...         ...       ...           ...         ...   \n",
       "125     95          95       0.1  15524.842470   3431552.0   \n",
       "126     99          99       0.1   2137.576852    312989.0   \n",
       "127     65          64       0.1    285.834140     26463.0   \n",
       "128      9           9       4.1   1313.889646    161587.0   \n",
       "129     88          87       6.2    118.693830  15777451.0   \n",
       "\n",
       "     thinness  1-19 years  thinness 5-9 years  \\\n",
       "0                    17.2                17.3   \n",
       "1                     1.2                 1.3   \n",
       "2                     6.0                 5.8   \n",
       "3                     8.3                 8.2   \n",
       "4                     1.0                 0.9   \n",
       "..                    ...                 ...   \n",
       "125                   1.5                 1.4   \n",
       "126                   3.0                 3.1   \n",
       "127                   1.5                 1.4   \n",
       "128                   6.3                 6.1   \n",
       "129                   5.6                 5.5   \n",
       "\n",
       "     Income composition of resources  Schooling  Life_Expectancy  \n",
       "0                              0.479       10.1             65.0  \n",
       "1                              0.762       14.2             77.8  \n",
       "2                              0.743       14.4             75.6  \n",
       "3                              0.531       11.4             52.4  \n",
       "4                              0.826       17.3             76.3  \n",
       "..                               ...        ...              ...  \n",
       "125                            0.794       15.5             77.0  \n",
       "126                            0.697       12.1             69.4  \n",
       "127                            0.598       10.8             72.0  \n",
       "128                            0.576       12.5             61.8  \n",
       "129                            0.507       10.3             67.0  \n",
       "\n",
       "[130 rows x 19 columns]>"
      ]
     },
     "execution_count": 3,
     "metadata": {},
     "output_type": "execute_result"
    }
   ],
   "source": [
    "df.head"
   ]
  },
  {
   "cell_type": "markdown",
   "metadata": {},
   "source": [
    "- Here we can see an scatter plot of \"Life_Expectancy\""
   ]
  },
  {
   "cell_type": "code",
   "execution_count": 4,
   "metadata": {},
   "outputs": [
    {
     "data": {
      "image/png": "[encoded data removed]",
      "text/plain": [
       "<Figure size 360x360 with 1 Axes>"
      ]
     },
     "metadata": {
      "needs_background": "light"
     },
     "output_type": "display_data"
    }
   ],
   "source": [
    "g = sb.relplot(data=df, x=\"Status\", y=\"Life_Expectancy\")\n",
    "plt.show(g)\n"
   ]
  },
  {
   "cell_type": "markdown",
   "metadata": {},
   "source": [
    " - Our outcome is almost normal distribution, right skewed."
   ]
  },
  {
   "cell_type": "code",
   "execution_count": 5,
   "metadata": {},
   "outputs": [
    {
     "data": {
      "text/plain": [
       "<seaborn.axisgrid.FacetGrid at 0x27b48143610>"
      ]
     },
     "execution_count": 5,
     "metadata": {},
     "output_type": "execute_result"
    },
    {
     "data": {
      "image/png": "[encoded data removed]",
      "text/plain": [
       "<Figure size 360x360 with 1 Axes>"
      ]
     },
     "metadata": {
      "needs_background": "light"
     },
     "output_type": "display_data"
    }
   ],
   "source": [
    "sb.displot(data=outcome, x=\"Life_Expectancy\", kde=True)"
   ]
  },
  {
   "cell_type": "markdown",
   "metadata": {},
   "source": [
    "# 1.2. Checking the features \n",
    "\n",
    "- After removing the target, all remaining attributes are your features (independent variables).\n",
    "- Discuss the shape of the feature data, how many rows and columns does it contain?"
   ]
  },
  {
   "cell_type": "markdown",
   "metadata": {},
   "source": [
    "- The dataset is composed by 130 observations of 18 features, this a high dimensionality problem."
   ]
  },
  {
   "cell_type": "code",
   "execution_count": 6,
   "metadata": {},
   "outputs": [
    {
     "data": {
      "text/plain": [
       "(130, 18)"
      ]
     },
     "execution_count": 6,
     "metadata": {},
     "output_type": "execute_result"
    }
   ],
   "source": [
    "features.shape"
   ]
  },
  {
   "cell_type": "markdown",
   "metadata": {},
   "source": [
    "- Featuring Engineering"
   ]
  },
  {
   "cell_type": "code",
   "execution_count": 7,
   "metadata": {},
   "outputs": [
    {
     "data": {
      "text/plain": [
       "Developing    111\n",
       "Developed      19\n",
       "Name: Status, dtype: int64"
      ]
     },
     "execution_count": 7,
     "metadata": {},
     "output_type": "execute_result"
    }
   ],
   "source": [
    "pd.value_counts(features.Status)"
   ]
  },
  {
   "cell_type": "markdown",
   "metadata": {},
   "source": [
    "##### As we can see, the feature \"Status\" has two possible values only, which are \"Developing\" or \"Developed\". \n",
    "As we saw on the first plot, there is a higher \"Life Expectancy\" in developed countries, so we are going to transform this feature into a binary feature:\n",
    "\"Developing\" = 0\n",
    "\"Developed\" = 1"
   ]
  },
  {
   "cell_type": "code",
   "execution_count": 8,
   "metadata": {},
   "outputs": [
    {
     "data": {
      "image/png": "[encoded data removed]",
      "text/plain": [
       "<Figure size 216x432 with 1 Axes>"
      ]
     },
     "metadata": {
      "needs_background": "light"
     },
     "output_type": "display_data"
    }
   ],
   "source": [
    "g = sb.catplot(x='Status', y='Life_Expectancy', data=df, kind='box', height=6, aspect=0.5)\n",
    "plt.show(g)"
   ]
  },
  {
   "cell_type": "code",
   "execution_count": 9,
   "metadata": {},
   "outputs": [],
   "source": [
    "features['Binary Status'] = np.where(features['Status'] == \"Developed\", 1, 0) "
   ]
  },
  {
   "cell_type": "code",
   "execution_count": 10,
   "metadata": {},
   "outputs": [
    {
     "data": {
      "text/html": [
       "<div>\n",
       "<style scoped>\n",
       "    .dataframe tbody tr th:only-of-type {\n",
       "        vertical-align: middle;\n",
       "    }\n",
       "\n",
       "    .dataframe tbody tr th {\n",
       "        vertical-align: top;\n",
       "    }\n",
       "\n",
       "    .dataframe thead th {\n",
       "        text-align: right;\n",
       "    }\n",
       "</style>\n",
       "<table border=\"1\" class=\"dataframe\">\n",
       "  <thead>\n",
       "    <tr style=\"text-align: right;\">\n",
       "      <th></th>\n",
       "      <th>Country</th>\n",
       "      <th>Status</th>\n",
       "      <th>Adult Mortality</th>\n",
       "      <th>infant deaths</th>\n",
       "      <th>percentage expenditure</th>\n",
       "      <th>Hepatitis B</th>\n",
       "      <th>Measles</th>\n",
       "      <th>BMI</th>\n",
       "      <th>under-five deaths</th>\n",
       "      <th>Polio</th>\n",
       "      <th>Diphtheria</th>\n",
       "      <th>HIV/AIDS</th>\n",
       "      <th>GDP</th>\n",
       "      <th>Population</th>\n",
       "      <th>thinness  1-19 years</th>\n",
       "      <th>thinness 5-9 years</th>\n",
       "      <th>Income composition of resources</th>\n",
       "      <th>Schooling</th>\n",
       "      <th>Binary Status</th>\n",
       "    </tr>\n",
       "  </thead>\n",
       "  <tbody>\n",
       "    <tr>\n",
       "      <th>0</th>\n",
       "      <td>Afghanistan</td>\n",
       "      <td>Developing</td>\n",
       "      <td>263</td>\n",
       "      <td>62</td>\n",
       "      <td>71.279624</td>\n",
       "      <td>65</td>\n",
       "      <td>1154</td>\n",
       "      <td>19.1</td>\n",
       "      <td>83</td>\n",
       "      <td>6</td>\n",
       "      <td>65</td>\n",
       "      <td>0.1</td>\n",
       "      <td>584.259210</td>\n",
       "      <td>33736494.0</td>\n",
       "      <td>17.2</td>\n",
       "      <td>17.3</td>\n",
       "      <td>0.479</td>\n",
       "      <td>10.1</td>\n",
       "      <td>0</td>\n",
       "    </tr>\n",
       "    <tr>\n",
       "      <th>1</th>\n",
       "      <td>Albania</td>\n",
       "      <td>Developing</td>\n",
       "      <td>74</td>\n",
       "      <td>0</td>\n",
       "      <td>364.975229</td>\n",
       "      <td>99</td>\n",
       "      <td>0</td>\n",
       "      <td>58.0</td>\n",
       "      <td>0</td>\n",
       "      <td>99</td>\n",
       "      <td>99</td>\n",
       "      <td>0.1</td>\n",
       "      <td>3954.227830</td>\n",
       "      <td>28873.0</td>\n",
       "      <td>1.2</td>\n",
       "      <td>1.3</td>\n",
       "      <td>0.762</td>\n",
       "      <td>14.2</td>\n",
       "      <td>0</td>\n",
       "    </tr>\n",
       "    <tr>\n",
       "      <th>2</th>\n",
       "      <td>Algeria</td>\n",
       "      <td>Developing</td>\n",
       "      <td>19</td>\n",
       "      <td>21</td>\n",
       "      <td>0.000000</td>\n",
       "      <td>95</td>\n",
       "      <td>63</td>\n",
       "      <td>59.5</td>\n",
       "      <td>24</td>\n",
       "      <td>95</td>\n",
       "      <td>95</td>\n",
       "      <td>0.1</td>\n",
       "      <td>4132.762920</td>\n",
       "      <td>39871528.0</td>\n",
       "      <td>6.0</td>\n",
       "      <td>5.8</td>\n",
       "      <td>0.743</td>\n",
       "      <td>14.4</td>\n",
       "      <td>0</td>\n",
       "    </tr>\n",
       "    <tr>\n",
       "      <th>3</th>\n",
       "      <td>Angola</td>\n",
       "      <td>Developing</td>\n",
       "      <td>335</td>\n",
       "      <td>66</td>\n",
       "      <td>0.000000</td>\n",
       "      <td>64</td>\n",
       "      <td>118</td>\n",
       "      <td>23.3</td>\n",
       "      <td>98</td>\n",
       "      <td>7</td>\n",
       "      <td>64</td>\n",
       "      <td>1.9</td>\n",
       "      <td>3695.793748</td>\n",
       "      <td>2785935.0</td>\n",
       "      <td>8.3</td>\n",
       "      <td>8.2</td>\n",
       "      <td>0.531</td>\n",
       "      <td>11.4</td>\n",
       "      <td>0</td>\n",
       "    </tr>\n",
       "    <tr>\n",
       "      <th>4</th>\n",
       "      <td>Argentina</td>\n",
       "      <td>Developing</td>\n",
       "      <td>116</td>\n",
       "      <td>8</td>\n",
       "      <td>0.000000</td>\n",
       "      <td>94</td>\n",
       "      <td>0</td>\n",
       "      <td>62.8</td>\n",
       "      <td>9</td>\n",
       "      <td>93</td>\n",
       "      <td>94</td>\n",
       "      <td>0.1</td>\n",
       "      <td>13467.123600</td>\n",
       "      <td>43417765.0</td>\n",
       "      <td>1.0</td>\n",
       "      <td>0.9</td>\n",
       "      <td>0.826</td>\n",
       "      <td>17.3</td>\n",
       "      <td>0</td>\n",
       "    </tr>\n",
       "  </tbody>\n",
       "</table>\n",
       "</div>"
      ],
      "text/plain": [
       "       Country      Status  Adult Mortality  infant deaths  \\\n",
       "0  Afghanistan  Developing              263             62   \n",
       "1      Albania  Developing               74              0   \n",
       "2      Algeria  Developing               19             21   \n",
       "3       Angola  Developing              335             66   \n",
       "4    Argentina  Developing              116              8   \n",
       "\n",
       "   percentage expenditure  Hepatitis B  Measles   BMI  under-five deaths  \\\n",
       "0               71.279624           65     1154  19.1                 83   \n",
       "1              364.975229           99        0  58.0                  0   \n",
       "2                0.000000           95       63  59.5                 24   \n",
       "3                0.000000           64      118  23.3                 98   \n",
       "4                0.000000           94        0  62.8                  9   \n",
       "\n",
       "   Polio  Diphtheria  HIV/AIDS           GDP  Population  \\\n",
       "0      6          65       0.1    584.259210  33736494.0   \n",
       "1     99          99       0.1   3954.227830     28873.0   \n",
       "2     95          95       0.1   4132.762920  39871528.0   \n",
       "3      7          64       1.9   3695.793748   2785935.0   \n",
       "4     93          94       0.1  13467.123600  43417765.0   \n",
       "\n",
       "   thinness  1-19 years  thinness 5-9 years  Income composition of resources  \\\n",
       "0                  17.2                17.3                            0.479   \n",
       "1                   1.2                 1.3                            0.762   \n",
       "2                   6.0                 5.8                            0.743   \n",
       "3                   8.3                 8.2                            0.531   \n",
       "4                   1.0                 0.9                            0.826   \n",
       "\n",
       "   Schooling  Binary Status  \n",
       "0       10.1              0  \n",
       "1       14.2              0  \n",
       "2       14.4              0  \n",
       "3       11.4              0  \n",
       "4       17.3              0  "
      ]
     },
     "execution_count": 10,
     "metadata": {},
     "output_type": "execute_result"
    }
   ],
   "source": [
    "features.head()"
   ]
  },
  {
   "cell_type": "markdown",
   "metadata": {},
   "source": [
    "#### Discuss whether features are standardised."
   ]
  },
  {
   "cell_type": "markdown",
   "metadata": {},
   "source": [
    "- Features are standardised if the have mean 0 and std dev 1, which is not the case."
   ]
  },
  {
   "cell_type": "code",
   "execution_count": 11,
   "metadata": {},
   "outputs": [
    {
     "data": {
      "text/html": [
       "<div>\n",
       "<style scoped>\n",
       "    .dataframe tbody tr th:only-of-type {\n",
       "        vertical-align: middle;\n",
       "    }\n",
       "\n",
       "    .dataframe tbody tr th {\n",
       "        vertical-align: top;\n",
       "    }\n",
       "\n",
       "    .dataframe thead th {\n",
       "        text-align: right;\n",
       "    }\n",
       "</style>\n",
       "<table border=\"1\" class=\"dataframe\">\n",
       "  <thead>\n",
       "    <tr style=\"text-align: right;\">\n",
       "      <th></th>\n",
       "      <th>Adult Mortality</th>\n",
       "      <th>infant deaths</th>\n",
       "      <th>percentage expenditure</th>\n",
       "      <th>Hepatitis B</th>\n",
       "      <th>Measles</th>\n",
       "      <th>BMI</th>\n",
       "      <th>under-five deaths</th>\n",
       "      <th>Polio</th>\n",
       "      <th>Diphtheria</th>\n",
       "      <th>HIV/AIDS</th>\n",
       "      <th>GDP</th>\n",
       "      <th>Population</th>\n",
       "      <th>thinness  1-19 years</th>\n",
       "      <th>thinness 5-9 years</th>\n",
       "      <th>Income composition of resources</th>\n",
       "      <th>Schooling</th>\n",
       "      <th>Binary Status</th>\n",
       "    </tr>\n",
       "  </thead>\n",
       "  <tbody>\n",
       "    <tr>\n",
       "      <th>count</th>\n",
       "      <td>130.000000</td>\n",
       "      <td>130.000000</td>\n",
       "      <td>130.000000</td>\n",
       "      <td>130.000000</td>\n",
       "      <td>130.000000</td>\n",
       "      <td>130.000000</td>\n",
       "      <td>130.000000</td>\n",
       "      <td>130.000000</td>\n",
       "      <td>130.000000</td>\n",
       "      <td>130.000000</td>\n",
       "      <td>130.000000</td>\n",
       "      <td>1.300000e+02</td>\n",
       "      <td>130.000000</td>\n",
       "      <td>130.000000</td>\n",
       "      <td>130.000000</td>\n",
       "      <td>130.000000</td>\n",
       "      <td>130.000000</td>\n",
       "    </tr>\n",
       "    <tr>\n",
       "      <th>mean</th>\n",
       "      <td>158.676923</td>\n",
       "      <td>27.723077</td>\n",
       "      <td>3.355807</td>\n",
       "      <td>80.653846</td>\n",
       "      <td>1773.315385</td>\n",
       "      <td>40.533077</td>\n",
       "      <td>36.761538</td>\n",
       "      <td>81.123077</td>\n",
       "      <td>82.846154</td>\n",
       "      <td>0.785385</td>\n",
       "      <td>5997.928670</td>\n",
       "      <td>1.163121e+07</td>\n",
       "      <td>4.680769</td>\n",
       "      <td>4.780769</td>\n",
       "      <td>0.674792</td>\n",
       "      <td>12.746923</td>\n",
       "      <td>0.146154</td>\n",
       "    </tr>\n",
       "    <tr>\n",
       "      <th>std</th>\n",
       "      <td>99.484969</td>\n",
       "      <td>96.426702</td>\n",
       "      <td>32.567606</td>\n",
       "      <td>24.992933</td>\n",
       "      <td>9130.704172</td>\n",
       "      <td>21.196345</td>\n",
       "      <td>123.951904</td>\n",
       "      <td>25.435133</td>\n",
       "      <td>23.289370</td>\n",
       "      <td>1.520206</td>\n",
       "      <td>10101.952401</td>\n",
       "      <td>3.017667e+07</td>\n",
       "      <td>4.380632</td>\n",
       "      <td>4.477144</td>\n",
       "      <td>0.151216</td>\n",
       "      <td>2.760159</td>\n",
       "      <td>0.354627</td>\n",
       "    </tr>\n",
       "    <tr>\n",
       "      <th>min</th>\n",
       "      <td>1.000000</td>\n",
       "      <td>0.000000</td>\n",
       "      <td>0.000000</td>\n",
       "      <td>6.000000</td>\n",
       "      <td>0.000000</td>\n",
       "      <td>2.500000</td>\n",
       "      <td>0.000000</td>\n",
       "      <td>6.000000</td>\n",
       "      <td>6.000000</td>\n",
       "      <td>0.100000</td>\n",
       "      <td>33.681223</td>\n",
       "      <td>2.966000e+03</td>\n",
       "      <td>0.100000</td>\n",
       "      <td>0.100000</td>\n",
       "      <td>0.347000</td>\n",
       "      <td>5.400000</td>\n",
       "      <td>0.000000</td>\n",
       "    </tr>\n",
       "    <tr>\n",
       "      <th>25%</th>\n",
       "      <td>79.000000</td>\n",
       "      <td>0.000000</td>\n",
       "      <td>0.000000</td>\n",
       "      <td>77.250000</td>\n",
       "      <td>0.000000</td>\n",
       "      <td>23.325000</td>\n",
       "      <td>1.000000</td>\n",
       "      <td>78.250000</td>\n",
       "      <td>78.000000</td>\n",
       "      <td>0.100000</td>\n",
       "      <td>702.333884</td>\n",
       "      <td>2.423205e+05</td>\n",
       "      <td>1.525000</td>\n",
       "      <td>1.550000</td>\n",
       "      <td>0.550500</td>\n",
       "      <td>10.800000</td>\n",
       "      <td>0.000000</td>\n",
       "    </tr>\n",
       "    <tr>\n",
       "      <th>50%</th>\n",
       "      <td>145.500000</td>\n",
       "      <td>3.000000</td>\n",
       "      <td>0.000000</td>\n",
       "      <td>91.000000</td>\n",
       "      <td>16.500000</td>\n",
       "      <td>41.300000</td>\n",
       "      <td>3.000000</td>\n",
       "      <td>91.500000</td>\n",
       "      <td>92.500000</td>\n",
       "      <td>0.100000</td>\n",
       "      <td>2231.867706</td>\n",
       "      <td>1.894576e+06</td>\n",
       "      <td>3.400000</td>\n",
       "      <td>3.450000</td>\n",
       "      <td>0.701500</td>\n",
       "      <td>12.750000</td>\n",
       "      <td>0.000000</td>\n",
       "    </tr>\n",
       "    <tr>\n",
       "      <th>75%</th>\n",
       "      <td>215.000000</td>\n",
       "      <td>20.500000</td>\n",
       "      <td>0.000000</td>\n",
       "      <td>96.000000</td>\n",
       "      <td>210.500000</td>\n",
       "      <td>61.200000</td>\n",
       "      <td>25.500000</td>\n",
       "      <td>97.000000</td>\n",
       "      <td>97.000000</td>\n",
       "      <td>0.500000</td>\n",
       "      <td>6311.780768</td>\n",
       "      <td>1.095208e+07</td>\n",
       "      <td>6.500000</td>\n",
       "      <td>6.575000</td>\n",
       "      <td>0.784000</td>\n",
       "      <td>14.675000</td>\n",
       "      <td>0.000000</td>\n",
       "    </tr>\n",
       "    <tr>\n",
       "      <th>max</th>\n",
       "      <td>484.000000</td>\n",
       "      <td>910.000000</td>\n",
       "      <td>364.975229</td>\n",
       "      <td>99.000000</td>\n",
       "      <td>90387.000000</td>\n",
       "      <td>77.600000</td>\n",
       "      <td>1100.000000</td>\n",
       "      <td>99.000000</td>\n",
       "      <td>99.000000</td>\n",
       "      <td>9.300000</td>\n",
       "      <td>56554.387600</td>\n",
       "      <td>2.581621e+08</td>\n",
       "      <td>26.700000</td>\n",
       "      <td>27.300000</td>\n",
       "      <td>0.937000</td>\n",
       "      <td>20.400000</td>\n",
       "      <td>1.000000</td>\n",
       "    </tr>\n",
       "  </tbody>\n",
       "</table>\n",
       "</div>"
      ],
      "text/plain": [
       "       Adult Mortality  infant deaths  percentage expenditure  Hepatitis B  \\\n",
       "count       130.000000     130.000000              130.000000   130.000000   \n",
       "mean        158.676923      27.723077                3.355807    80.653846   \n",
       "std          99.484969      96.426702               32.567606    24.992933   \n",
       "min           1.000000       0.000000                0.000000     6.000000   \n",
       "25%          79.000000       0.000000                0.000000    77.250000   \n",
       "50%         145.500000       3.000000                0.000000    91.000000   \n",
       "75%         215.000000      20.500000                0.000000    96.000000   \n",
       "max         484.000000     910.000000              364.975229    99.000000   \n",
       "\n",
       "            Measles         BMI  under-five deaths       Polio  Diphtheria  \\\n",
       "count    130.000000  130.000000         130.000000  130.000000  130.000000   \n",
       "mean    1773.315385   40.533077          36.761538   81.123077   82.846154   \n",
       "std     9130.704172   21.196345         123.951904   25.435133   23.289370   \n",
       "min        0.000000    2.500000           0.000000    6.000000    6.000000   \n",
       "25%        0.000000   23.325000           1.000000   78.250000   78.000000   \n",
       "50%       16.500000   41.300000           3.000000   91.500000   92.500000   \n",
       "75%      210.500000   61.200000          25.500000   97.000000   97.000000   \n",
       "max    90387.000000   77.600000        1100.000000   99.000000   99.000000   \n",
       "\n",
       "         HIV/AIDS           GDP    Population  thinness  1-19 years  \\\n",
       "count  130.000000    130.000000  1.300000e+02            130.000000   \n",
       "mean     0.785385   5997.928670  1.163121e+07              4.680769   \n",
       "std      1.520206  10101.952401  3.017667e+07              4.380632   \n",
       "min      0.100000     33.681223  2.966000e+03              0.100000   \n",
       "25%      0.100000    702.333884  2.423205e+05              1.525000   \n",
       "50%      0.100000   2231.867706  1.894576e+06              3.400000   \n",
       "75%      0.500000   6311.780768  1.095208e+07              6.500000   \n",
       "max      9.300000  56554.387600  2.581621e+08             26.700000   \n",
       "\n",
       "       thinness 5-9 years  Income composition of resources   Schooling  \\\n",
       "count          130.000000                       130.000000  130.000000   \n",
       "mean             4.780769                         0.674792   12.746923   \n",
       "std              4.477144                         0.151216    2.760159   \n",
       "min              0.100000                         0.347000    5.400000   \n",
       "25%              1.550000                         0.550500   10.800000   \n",
       "50%              3.450000                         0.701500   12.750000   \n",
       "75%              6.575000                         0.784000   14.675000   \n",
       "max             27.300000                         0.937000   20.400000   \n",
       "\n",
       "       Binary Status  \n",
       "count     130.000000  \n",
       "mean        0.146154  \n",
       "std         0.354627  \n",
       "min         0.000000  \n",
       "25%         0.000000  \n",
       "50%         0.000000  \n",
       "75%         0.000000  \n",
       "max         1.000000  "
      ]
     },
     "execution_count": 11,
     "metadata": {},
     "output_type": "execute_result"
    }
   ],
   "source": [
    "features.describe()"
   ]
  },
  {
   "cell_type": "markdown",
   "metadata": {},
   "source": [
    "- For a Regression task, such as OLS, we need no-multicollinearity between features.\n",
    "\n",
    "- As many of the measures are correlated, for example \"Infant Deaths\" with \"Under-five deaths\" or \"thinness 1-19 years\" and \"thinness 5-9 years\" between others we are going to leave one of each pairs.\n",
    "\n",
    "- One interesting case is case is the correlation between \"BMI\", \"Income composition of resources\" and \"Schooling\".\n",
    "\n",
    "- Make a PCA would help reducing the feature space, but we would be loosing the interpretability of the model."
   ]
  },
  {
   "cell_type": "code",
   "execution_count": 12,
   "metadata": {},
   "outputs": [
    {
     "data": {
      "text/plain": [
       "<AxesSubplot:>"
      ]
     },
     "execution_count": 12,
     "metadata": {},
     "output_type": "execute_result"
    },
    {
     "data": {
      "image/png": "[encoded data removed]",
      "text/plain": [
       "<Figure size 432x288 with 2 Axes>"
      ]
     },
     "metadata": {
      "needs_background": "light"
     },
     "output_type": "display_data"
    }
   ],
   "source": [
    "cmap = sb.diverging_palette(50, 25, as_cmap=False)\n",
    "sb.heatmap(features.corr()**2, cmap=cmap, center=0, square=False, linewidths=1)"
   ]
  },
  {
   "cell_type": "code",
   "execution_count": 13,
   "metadata": {},
   "outputs": [],
   "source": [
    "del features['Status']\n",
    "del features['Country']\n",
    "del features['Income composition of resources']\n",
    "del features['thinness 5-9 years']\n",
    "del features['infant deaths']"
   ]
  },
  {
   "cell_type": "markdown",
   "metadata": {},
   "source": [
    "### Now, the new feature space is made of 14 features."
   ]
  },
  {
   "cell_type": "code",
   "execution_count": 14,
   "metadata": {},
   "outputs": [
    {
     "data": {
      "text/plain": [
       "<AxesSubplot:>"
      ]
     },
     "execution_count": 14,
     "metadata": {},
     "output_type": "execute_result"
    },
    {
     "data": {
      "image/png": "[encoded data removed]",
      "text/plain": [
       "<Figure size 432x288 with 2 Axes>"
      ]
     },
     "metadata": {
      "needs_background": "light"
     },
     "output_type": "display_data"
    }
   ],
   "source": [
    "cmap = sb.diverging_palette(50, 25, as_cmap=False)\n",
    "sb.heatmap(features.corr()**2, cmap=cmap, center=0, square=False, linewidths=1)"
   ]
  },
  {
   "cell_type": "markdown",
   "metadata": {},
   "source": [
    "## 2. Training and testing a machine learning pipeline\n",
    "\n",
    "- Propose a machine learning pipeline suited to predict the target, given the available features.\n",
    "- Motivate your choices: why the proposed pipeline among the many?\n",
    "- Explain whether your proposed pipeline standardises the feature data. Motivate your choices.\n",
    "- Explain whether your proposed pipeline transforms feature data and how. Motivate your choices.\n",
    "- Split your data needs into train and test.\n",
    "- Train your supervised learning model.\n",
    "- Show the accuracy of your model by using appropriate unseen data.\n",
    "- Discuss whether you need to compare your accuracy to a baseline.\n",
    "- Discuss whether your final model overfits or underfits."
   ]
  },
  {
   "cell_type": "markdown",
   "metadata": {},
   "source": [
    "#### The model must be solved with a regularisation tecnique for a high dimensionality.\n",
    "\n",
    "- We can use OLS, with the PCA to get independent variables, but we would be losing the interpretability as we would be working with new features (or the model would be instable).\n",
    "\n",
    "##### As interpretability is important to find possible solutions to increase the life expectancy, I will use a regularisation model  which are Lasso & Ridge.\n",
    "\n",
    "- -Lasso is better by reducing the feature space, which is better for the interpretability of the model.\n",
    "\n",
    "- -Ridge, outperforms the the accuracy of the prediction over high featured spaces.\n",
    "\n",
    "As we don't have a high correlation as we saw before and we want to keep the interpretability, we are going to use a Lasso.\n",
    "Regularisation model a polynomial function that predict our outcome from the features, we are going to use a polynomial grade of one and it can be done in many times with different grades to find the one with the best accuracy"
   ]
  },
  {
   "cell_type": "markdown",
   "metadata": {},
   "source": [
    "                    "
   ]
  },
  {
   "cell_type": "markdown",
   "metadata": {},
   "source": [
    "#### Explain whether your proposed pipeline standardises the feature data. Motivate your choices."
   ]
  },
  {
   "cell_type": "markdown",
   "metadata": {},
   "source": [
    "- The standardirisation of our data into a common scale, give us the bases for the Regression models, as they work with betas, which show how important is the feature over the prediction of the outcome."
   ]
  },
  {
   "cell_type": "code",
   "execution_count": 15,
   "metadata": {},
   "outputs": [
    {
     "data": {
      "text/html": [
       "<div>\n",
       "<style scoped>\n",
       "    .dataframe tbody tr th:only-of-type {\n",
       "        vertical-align: middle;\n",
       "    }\n",
       "\n",
       "    .dataframe tbody tr th {\n",
       "        vertical-align: top;\n",
       "    }\n",
       "\n",
       "    .dataframe thead th {\n",
       "        text-align: right;\n",
       "    }\n",
       "</style>\n",
       "<table border=\"1\" class=\"dataframe\">\n",
       "  <thead>\n",
       "    <tr style=\"text-align: right;\">\n",
       "      <th></th>\n",
       "      <th>Adult Mortality</th>\n",
       "      <th>percentage expenditure</th>\n",
       "      <th>Hepatitis B</th>\n",
       "      <th>Measles</th>\n",
       "      <th>BMI</th>\n",
       "      <th>under-five deaths</th>\n",
       "      <th>Polio</th>\n",
       "      <th>Diphtheria</th>\n",
       "      <th>HIV/AIDS</th>\n",
       "      <th>GDP</th>\n",
       "      <th>Population</th>\n",
       "      <th>thinness  1-19 years</th>\n",
       "      <th>Schooling</th>\n",
       "      <th>Binary Status</th>\n",
       "    </tr>\n",
       "  </thead>\n",
       "  <tbody>\n",
       "    <tr>\n",
       "      <th>count</th>\n",
       "      <td>130.000000</td>\n",
       "      <td>130.000000</td>\n",
       "      <td>130.000000</td>\n",
       "      <td>130.000000</td>\n",
       "      <td>130.000000</td>\n",
       "      <td>130.000000</td>\n",
       "      <td>130.000000</td>\n",
       "      <td>130.000000</td>\n",
       "      <td>130.000000</td>\n",
       "      <td>130.000000</td>\n",
       "      <td>1.300000e+02</td>\n",
       "      <td>130.000000</td>\n",
       "      <td>130.000000</td>\n",
       "      <td>130.000000</td>\n",
       "    </tr>\n",
       "    <tr>\n",
       "      <th>mean</th>\n",
       "      <td>158.676923</td>\n",
       "      <td>3.355807</td>\n",
       "      <td>80.653846</td>\n",
       "      <td>1773.315385</td>\n",
       "      <td>40.533077</td>\n",
       "      <td>36.761538</td>\n",
       "      <td>81.123077</td>\n",
       "      <td>82.846154</td>\n",
       "      <td>0.785385</td>\n",
       "      <td>5997.928670</td>\n",
       "      <td>1.163121e+07</td>\n",
       "      <td>4.680769</td>\n",
       "      <td>12.746923</td>\n",
       "      <td>0.146154</td>\n",
       "    </tr>\n",
       "    <tr>\n",
       "      <th>std</th>\n",
       "      <td>99.484969</td>\n",
       "      <td>32.567606</td>\n",
       "      <td>24.992933</td>\n",
       "      <td>9130.704172</td>\n",
       "      <td>21.196345</td>\n",
       "      <td>123.951904</td>\n",
       "      <td>25.435133</td>\n",
       "      <td>23.289370</td>\n",
       "      <td>1.520206</td>\n",
       "      <td>10101.952401</td>\n",
       "      <td>3.017667e+07</td>\n",
       "      <td>4.380632</td>\n",
       "      <td>2.760159</td>\n",
       "      <td>0.354627</td>\n",
       "    </tr>\n",
       "    <tr>\n",
       "      <th>min</th>\n",
       "      <td>1.000000</td>\n",
       "      <td>0.000000</td>\n",
       "      <td>6.000000</td>\n",
       "      <td>0.000000</td>\n",
       "      <td>2.500000</td>\n",
       "      <td>0.000000</td>\n",
       "      <td>6.000000</td>\n",
       "      <td>6.000000</td>\n",
       "      <td>0.100000</td>\n",
       "      <td>33.681223</td>\n",
       "      <td>2.966000e+03</td>\n",
       "      <td>0.100000</td>\n",
       "      <td>5.400000</td>\n",
       "      <td>0.000000</td>\n",
       "    </tr>\n",
       "    <tr>\n",
       "      <th>25%</th>\n",
       "      <td>79.000000</td>\n",
       "      <td>0.000000</td>\n",
       "      <td>77.250000</td>\n",
       "      <td>0.000000</td>\n",
       "      <td>23.325000</td>\n",
       "      <td>1.000000</td>\n",
       "      <td>78.250000</td>\n",
       "      <td>78.000000</td>\n",
       "      <td>0.100000</td>\n",
       "      <td>702.333884</td>\n",
       "      <td>2.423205e+05</td>\n",
       "      <td>1.525000</td>\n",
       "      <td>10.800000</td>\n",
       "      <td>0.000000</td>\n",
       "    </tr>\n",
       "    <tr>\n",
       "      <th>50%</th>\n",
       "      <td>145.500000</td>\n",
       "      <td>0.000000</td>\n",
       "      <td>91.000000</td>\n",
       "      <td>16.500000</td>\n",
       "      <td>41.300000</td>\n",
       "      <td>3.000000</td>\n",
       "      <td>91.500000</td>\n",
       "      <td>92.500000</td>\n",
       "      <td>0.100000</td>\n",
       "      <td>2231.867706</td>\n",
       "      <td>1.894576e+06</td>\n",
       "      <td>3.400000</td>\n",
       "      <td>12.750000</td>\n",
       "      <td>0.000000</td>\n",
       "    </tr>\n",
       "    <tr>\n",
       "      <th>75%</th>\n",
       "      <td>215.000000</td>\n",
       "      <td>0.000000</td>\n",
       "      <td>96.000000</td>\n",
       "      <td>210.500000</td>\n",
       "      <td>61.200000</td>\n",
       "      <td>25.500000</td>\n",
       "      <td>97.000000</td>\n",
       "      <td>97.000000</td>\n",
       "      <td>0.500000</td>\n",
       "      <td>6311.780768</td>\n",
       "      <td>1.095208e+07</td>\n",
       "      <td>6.500000</td>\n",
       "      <td>14.675000</td>\n",
       "      <td>0.000000</td>\n",
       "    </tr>\n",
       "    <tr>\n",
       "      <th>max</th>\n",
       "      <td>484.000000</td>\n",
       "      <td>364.975229</td>\n",
       "      <td>99.000000</td>\n",
       "      <td>90387.000000</td>\n",
       "      <td>77.600000</td>\n",
       "      <td>1100.000000</td>\n",
       "      <td>99.000000</td>\n",
       "      <td>99.000000</td>\n",
       "      <td>9.300000</td>\n",
       "      <td>56554.387600</td>\n",
       "      <td>2.581621e+08</td>\n",
       "      <td>26.700000</td>\n",
       "      <td>20.400000</td>\n",
       "      <td>1.000000</td>\n",
       "    </tr>\n",
       "  </tbody>\n",
       "</table>\n",
       "</div>"
      ],
      "text/plain": [
       "       Adult Mortality  percentage expenditure  Hepatitis B       Measles  \\\n",
       "count       130.000000              130.000000   130.000000    130.000000   \n",
       "mean        158.676923                3.355807    80.653846   1773.315385   \n",
       "std          99.484969               32.567606    24.992933   9130.704172   \n",
       "min           1.000000                0.000000     6.000000      0.000000   \n",
       "25%          79.000000                0.000000    77.250000      0.000000   \n",
       "50%         145.500000                0.000000    91.000000     16.500000   \n",
       "75%         215.000000                0.000000    96.000000    210.500000   \n",
       "max         484.000000              364.975229    99.000000  90387.000000   \n",
       "\n",
       "              BMI  under-five deaths       Polio  Diphtheria    HIV/AIDS  \\\n",
       "count  130.000000         130.000000  130.000000  130.000000  130.000000   \n",
       "mean    40.533077          36.761538   81.123077   82.846154    0.785385   \n",
       "std     21.196345         123.951904   25.435133   23.289370    1.520206   \n",
       "min      2.500000           0.000000    6.000000    6.000000    0.100000   \n",
       "25%     23.325000           1.000000   78.250000   78.000000    0.100000   \n",
       "50%     41.300000           3.000000   91.500000   92.500000    0.100000   \n",
       "75%     61.200000          25.500000   97.000000   97.000000    0.500000   \n",
       "max     77.600000        1100.000000   99.000000   99.000000    9.300000   \n",
       "\n",
       "                GDP    Population  thinness  1-19 years   Schooling  \\\n",
       "count    130.000000  1.300000e+02            130.000000  130.000000   \n",
       "mean    5997.928670  1.163121e+07              4.680769   12.746923   \n",
       "std    10101.952401  3.017667e+07              4.380632    2.760159   \n",
       "min       33.681223  2.966000e+03              0.100000    5.400000   \n",
       "25%      702.333884  2.423205e+05              1.525000   10.800000   \n",
       "50%     2231.867706  1.894576e+06              3.400000   12.750000   \n",
       "75%     6311.780768  1.095208e+07              6.500000   14.675000   \n",
       "max    56554.387600  2.581621e+08             26.700000   20.400000   \n",
       "\n",
       "       Binary Status  \n",
       "count     130.000000  \n",
       "mean        0.146154  \n",
       "std         0.354627  \n",
       "min         0.000000  \n",
       "25%         0.000000  \n",
       "50%         0.000000  \n",
       "75%         0.000000  \n",
       "max         1.000000  "
      ]
     },
     "execution_count": 15,
     "metadata": {},
     "output_type": "execute_result"
    }
   ],
   "source": [
    "features.describe()"
   ]
  },
  {
   "cell_type": "markdown",
   "metadata": {},
   "source": [
    "#### Explain whether your proposed pipeline transforms feature data and how. Motivate your choices"
   ]
  },
  {
   "cell_type": "markdown",
   "metadata": {},
   "source": [
    "- As you outcome is continuous, we dont have to transform feature data on the pipeline."
   ]
  },
  {
   "cell_type": "markdown",
   "metadata": {},
   "source": [
    "##### Creating tuning and validation data"
   ]
  },
  {
   "cell_type": "code",
   "execution_count": 16,
   "metadata": {},
   "outputs": [],
   "source": [
    "features_tuning, features_val, outcome_tuning, outcome_val = train_test_split(features, outcome, test_size=0.30, random_state=1, shuffle=True)\n"
   ]
  },
  {
   "cell_type": "markdown",
   "metadata": {},
   "source": [
    "##### K-fold cross validation"
   ]
  },
  {
   "cell_type": "code",
   "execution_count": 17,
   "metadata": {},
   "outputs": [
    {
     "data": {
      "text/plain": [
       "6"
      ]
     },
     "execution_count": 17,
     "metadata": {},
     "output_type": "execute_result"
    }
   ],
   "source": [
    "kf = KFold(n_splits = 6, shuffle=True, random_state=0)\n",
    "kf.get_n_splits(features_tuning)"
   ]
  },
  {
   "cell_type": "markdown",
   "metadata": {},
   "source": [
    "#### 2.- Train your pipeline. \n",
    "- Split your data needs into train and test.\n",
    "- Train your supervised learning model."
   ]
  },
  {
   "cell_type": "markdown",
   "metadata": {},
   "source": [
    "- K-fold cross validation give us an unbiased estimate of the accuracy of the model, as it takes different folds to train the data decreasing the probability of getting a baiased model.\n",
    "\n",
    "- Test data is used to estimate the true accuracy of your model."
   ]
  },
  {
   "cell_type": "code",
   "execution_count": 18,
   "metadata": {},
   "outputs": [],
   "source": [
    "R2_train = []\n",
    "R2_test = []\n",
    "\n",
    "# K-fold validation\n",
    "for train_index, test_index in kf.split(features_tuning):\n",
    "\n",
    "    # Splitting data into train-test\n",
    "    features_train, features_test = features_tuning.iloc[train_index], features_tuning.iloc[test_index]\n",
    "    outcome_train, outcome_test = outcome_tuning.iloc[train_index], outcome_tuning.iloc[test_index]\n",
    "    \n",
    "    # Standardising outcome data\n",
    "    scaler = StandardScaler()\n",
    "    scaler.fit(outcome_train)\n",
    "    outcome_train = scaler.transform(outcome_train) \n",
    "    outcome_test = scaler.transform(outcome_test)\n",
    "\n",
    "    # Building a pipeline\n",
    "    pipe = Pipeline([('scaler', StandardScaler()), # scaling features\n",
    "                     ('poly', PolynomialFeatures(1)), # polynomial grade\n",
    "                     ('lm', Lasso(alpha=0.000001))]) # training a linear regression model  \n",
    "        \n",
    "    # Implementing our pipe\n",
    "    pipe.fit(features_train, outcome_train)\n",
    "    \n",
    "    # Use the trained model to create predictions on train and test data\n",
    "    outcome_train_pred = pipe.predict(features_train)\n",
    "    outcome_test_pred = pipe.predict(features_test)\n",
    "    \n",
    "    # Computing the accuracy of each model\n",
    "    R2_score_train = pipe.score(features_train, outcome_train)\n",
    "    R2_score_test = pipe.score(features_test, outcome_test)\n",
    "    \n",
    "    # Updating the vector of accuracies\n",
    "    R2_train.append( R2_score_train )\n",
    "    R2_test.append( R2_score_test )\n"
   ]
  },
  {
   "cell_type": "markdown",
   "metadata": {},
   "source": [
    "#### 3.- Test you pipeline and explaine\n",
    "\n",
    "- Show the accuracy of your model by using appropriate unseen data.\n",
    "- Discuss whether you need to compare your accuracy to a baseline.\n",
    "- Discuss whether your final model overfits or underfits"
   ]
  },
  {
   "cell_type": "markdown",
   "metadata": {},
   "source": [
    "- Compare your accuracy to a baseline is extreamly important find umbalanced classes on our dataset.\n",
    "\n",
    "- As this is a Regularisation model, the baseline can be a \"Dummy Model\" take the mean of the outcome and that can be the baseline."
   ]
  },
  {
   "cell_type": "code",
   "execution_count": 19,
   "metadata": {},
   "outputs": [
    {
     "data": {
      "text/html": [
       "<div>\n",
       "<style scoped>\n",
       "    .dataframe tbody tr th:only-of-type {\n",
       "        vertical-align: middle;\n",
       "    }\n",
       "\n",
       "    .dataframe tbody tr th {\n",
       "        vertical-align: top;\n",
       "    }\n",
       "\n",
       "    .dataframe thead th {\n",
       "        text-align: right;\n",
       "    }\n",
       "</style>\n",
       "<table border=\"1\" class=\"dataframe\">\n",
       "  <thead>\n",
       "    <tr style=\"text-align: right;\">\n",
       "      <th></th>\n",
       "      <th>R2_train</th>\n",
       "      <th>R2_test</th>\n",
       "    </tr>\n",
       "  </thead>\n",
       "  <tbody>\n",
       "    <tr>\n",
       "      <th>count</th>\n",
       "      <td>6.000000</td>\n",
       "      <td>6.000000</td>\n",
       "    </tr>\n",
       "    <tr>\n",
       "      <th>mean</th>\n",
       "      <td>0.856567</td>\n",
       "      <td>0.763760</td>\n",
       "    </tr>\n",
       "    <tr>\n",
       "      <th>std</th>\n",
       "      <td>0.010054</td>\n",
       "      <td>0.077059</td>\n",
       "    </tr>\n",
       "    <tr>\n",
       "      <th>min</th>\n",
       "      <td>0.844597</td>\n",
       "      <td>0.666048</td>\n",
       "    </tr>\n",
       "    <tr>\n",
       "      <th>25%</th>\n",
       "      <td>0.849369</td>\n",
       "      <td>0.709323</td>\n",
       "    </tr>\n",
       "    <tr>\n",
       "      <th>50%</th>\n",
       "      <td>0.855036</td>\n",
       "      <td>0.764279</td>\n",
       "    </tr>\n",
       "    <tr>\n",
       "      <th>75%</th>\n",
       "      <td>0.864362</td>\n",
       "      <td>0.832714</td>\n",
       "    </tr>\n",
       "    <tr>\n",
       "      <th>max</th>\n",
       "      <td>0.869781</td>\n",
       "      <td>0.841426</td>\n",
       "    </tr>\n",
       "  </tbody>\n",
       "</table>\n",
       "</div>"
      ],
      "text/plain": [
       "       R2_train   R2_test\n",
       "count  6.000000  6.000000\n",
       "mean   0.856567  0.763760\n",
       "std    0.010054  0.077059\n",
       "min    0.844597  0.666048\n",
       "25%    0.849369  0.709323\n",
       "50%    0.855036  0.764279\n",
       "75%    0.864362  0.832714\n",
       "max    0.869781  0.841426"
      ]
     },
     "execution_count": 19,
     "metadata": {},
     "output_type": "execute_result"
    }
   ],
   "source": [
    "accuracieI = pd.DataFrame({\"R2_train\":R2_train,\"R2_test\": R2_test})\n",
    "accuracieI.describe()"
   ]
  },
  {
   "cell_type": "markdown",
   "metadata": {},
   "source": [
    "- As our model has a good performance on test data, we use the whole dataset to train it"
   ]
  },
  {
   "cell_type": "code",
   "execution_count": 20,
   "metadata": {},
   "outputs": [
    {
     "data": {
      "text/plain": [
       "Lasso(alpha=1e-06, tol=0.1)"
      ]
     },
     "execution_count": 20,
     "metadata": {},
     "output_type": "execute_result"
    }
   ],
   "source": [
    "# Standardising feature data\n",
    "scaler = StandardScaler()\n",
    "scaler.fit(features)\n",
    "features_sc = scaler.transform(features)\n",
    "\n",
    "# Standardising outcome data\n",
    "scaler.fit(outcome)\n",
    "outcome_sc = scaler.transform(outcome) \n",
    "\n",
    "# Polynomial features\n",
    "pol = PolynomialFeatures(1)\n",
    "pol.fit(features_sc)\n",
    "features_pol = pol.transform(features_sc)\n",
    "\n",
    "# Training a Lasso regression model, alpha is the tuned one\n",
    "lassoI = Lasso(alpha=0.000001, tol=1e-1)\n",
    "lassoI.fit(features_pol, outcome_sc)"
   ]
  },
  {
   "cell_type": "code",
   "execution_count": 21,
   "metadata": {},
   "outputs": [
    {
     "data": {
      "text/html": [
       "<div>\n",
       "<style scoped>\n",
       "    .dataframe tbody tr th:only-of-type {\n",
       "        vertical-align: middle;\n",
       "    }\n",
       "\n",
       "    .dataframe tbody tr th {\n",
       "        vertical-align: top;\n",
       "    }\n",
       "\n",
       "    .dataframe thead th {\n",
       "        text-align: right;\n",
       "    }\n",
       "</style>\n",
       "<table border=\"1\" class=\"dataframe\">\n",
       "  <thead>\n",
       "    <tr style=\"text-align: right;\">\n",
       "      <th></th>\n",
       "      <th>Features</th>\n",
       "      <th>Betas</th>\n",
       "    </tr>\n",
       "  </thead>\n",
       "  <tbody>\n",
       "    <tr>\n",
       "      <th>0</th>\n",
       "      <td>Noise</td>\n",
       "      <td>0.000000</td>\n",
       "    </tr>\n",
       "    <tr>\n",
       "      <th>1</th>\n",
       "      <td>Adult Mortality</td>\n",
       "      <td>-0.339722</td>\n",
       "    </tr>\n",
       "    <tr>\n",
       "      <th>2</th>\n",
       "      <td>percentage expenditure</td>\n",
       "      <td>0.020069</td>\n",
       "    </tr>\n",
       "    <tr>\n",
       "      <th>3</th>\n",
       "      <td>Hepatitis B</td>\n",
       "      <td>0.041306</td>\n",
       "    </tr>\n",
       "    <tr>\n",
       "      <th>4</th>\n",
       "      <td>Measles</td>\n",
       "      <td>0.057651</td>\n",
       "    </tr>\n",
       "    <tr>\n",
       "      <th>5</th>\n",
       "      <td>BMI</td>\n",
       "      <td>0.032714</td>\n",
       "    </tr>\n",
       "    <tr>\n",
       "      <th>6</th>\n",
       "      <td>under-five deaths</td>\n",
       "      <td>-0.015270</td>\n",
       "    </tr>\n",
       "    <tr>\n",
       "      <th>7</th>\n",
       "      <td>Polio</td>\n",
       "      <td>0.099594</td>\n",
       "    </tr>\n",
       "    <tr>\n",
       "      <th>8</th>\n",
       "      <td>Diphtheria</td>\n",
       "      <td>0.055628</td>\n",
       "    </tr>\n",
       "    <tr>\n",
       "      <th>9</th>\n",
       "      <td>HIV/AIDS</td>\n",
       "      <td>-0.133192</td>\n",
       "    </tr>\n",
       "    <tr>\n",
       "      <th>10</th>\n",
       "      <td>GDP</td>\n",
       "      <td>0.048383</td>\n",
       "    </tr>\n",
       "    <tr>\n",
       "      <th>11</th>\n",
       "      <td>Population</td>\n",
       "      <td>-0.010947</td>\n",
       "    </tr>\n",
       "    <tr>\n",
       "      <th>12</th>\n",
       "      <td>thinness  1-19 years</td>\n",
       "      <td>-0.111534</td>\n",
       "    </tr>\n",
       "    <tr>\n",
       "      <th>13</th>\n",
       "      <td>Schooling</td>\n",
       "      <td>0.404956</td>\n",
       "    </tr>\n",
       "    <tr>\n",
       "      <th>14</th>\n",
       "      <td>Binary Status</td>\n",
       "      <td>0.029642</td>\n",
       "    </tr>\n",
       "  </tbody>\n",
       "</table>\n",
       "</div>"
      ],
      "text/plain": [
       "                  Features     Betas\n",
       "0                    Noise  0.000000\n",
       "1          Adult Mortality -0.339722\n",
       "2   percentage expenditure  0.020069\n",
       "3              Hepatitis B  0.041306\n",
       "4                  Measles  0.057651\n",
       "5                      BMI  0.032714\n",
       "6        under-five deaths -0.015270\n",
       "7                    Polio  0.099594\n",
       "8               Diphtheria  0.055628\n",
       "9                 HIV/AIDS -0.133192\n",
       "10                     GDP  0.048383\n",
       "11              Population -0.010947\n",
       "12    thinness  1-19 years -0.111534\n",
       "13               Schooling  0.404956\n",
       "14           Binary Status  0.029642"
      ]
     },
     "execution_count": 21,
     "metadata": {},
     "output_type": "execute_result"
    }
   ],
   "source": [
    "features_list = features.columns.values.tolist()\n",
    "features_list.insert(0, 'Noise')\n",
    "betas = pd.DataFrame({\"Features\":features_list,\n",
    "                      \"Betas\": lassoI.coef_.ravel()})\n",
    "betas"
   ]
  },
  {
   "cell_type": "markdown",
   "metadata": {},
   "source": [
    "## 3. Tuning the proposed machine learning pipeline (*Optional*) \n",
    "\n",
    "- Discuss whether your final feature space is low dimensional or high dimensional.\n",
    "- Explain whether the proposed pipeline requires any fine-tuned phase.\n",
    "- Explain whether your data needs to be split into train and test, k-fold, validation set, or what.\n",
    "- Show how you tune your proposed pipeline and on which portion of the data.\n",
    "- Introduce the hyper-parameters you are tuning. Motivate your choices. Why those hyper-parameters and not others? What's their role in the bias-variance trade-off?\n",
    "- Validate your tuned model.\n",
    "- Discuss whether your final tuned model overfits or underfits.\n",
    "- Compare the accuracy of your final tuned model with the accuracy you got in the previous section (non-tuned model)."
   ]
  },
  {
   "cell_type": "markdown",
   "metadata": {},
   "source": [
    "#### 1.- Introduction to the new proposed Machine Learning Pipeline\n",
    "- Discuss whether your final feature space is low dimensional or high dimensional.\n",
    "- Explain whether the proposed pipeline requires any fine-tuned phase.\n",
    "- Explain whether your data needs to be split into train and test, k-fold, validation set, or what.\n",
    "- Introduce the hyper-parameters you are tuning. Motivate your choices."
   ]
  },
  {
   "cell_type": "markdown",
   "metadata": {},
   "source": [
    "- As we can see, the first model have a high dimensional feature space as we can see betas different to cero."
   ]
  },
  {
   "cell_type": "code",
   "execution_count": 22,
   "metadata": {},
   "outputs": [
    {
     "data": {
      "text/html": [
       "<div>\n",
       "<style scoped>\n",
       "    .dataframe tbody tr th:only-of-type {\n",
       "        vertical-align: middle;\n",
       "    }\n",
       "\n",
       "    .dataframe tbody tr th {\n",
       "        vertical-align: top;\n",
       "    }\n",
       "\n",
       "    .dataframe thead th {\n",
       "        text-align: right;\n",
       "    }\n",
       "</style>\n",
       "<table border=\"1\" class=\"dataframe\">\n",
       "  <thead>\n",
       "    <tr style=\"text-align: right;\">\n",
       "      <th></th>\n",
       "      <th>Features</th>\n",
       "      <th>Betas</th>\n",
       "    </tr>\n",
       "  </thead>\n",
       "  <tbody>\n",
       "    <tr>\n",
       "      <th>0</th>\n",
       "      <td>Noise</td>\n",
       "      <td>0.000000</td>\n",
       "    </tr>\n",
       "    <tr>\n",
       "      <th>1</th>\n",
       "      <td>Adult Mortality</td>\n",
       "      <td>-0.339722</td>\n",
       "    </tr>\n",
       "    <tr>\n",
       "      <th>2</th>\n",
       "      <td>percentage expenditure</td>\n",
       "      <td>0.020069</td>\n",
       "    </tr>\n",
       "    <tr>\n",
       "      <th>3</th>\n",
       "      <td>Hepatitis B</td>\n",
       "      <td>0.041306</td>\n",
       "    </tr>\n",
       "    <tr>\n",
       "      <th>4</th>\n",
       "      <td>Measles</td>\n",
       "      <td>0.057651</td>\n",
       "    </tr>\n",
       "    <tr>\n",
       "      <th>5</th>\n",
       "      <td>BMI</td>\n",
       "      <td>0.032714</td>\n",
       "    </tr>\n",
       "    <tr>\n",
       "      <th>6</th>\n",
       "      <td>under-five deaths</td>\n",
       "      <td>-0.015270</td>\n",
       "    </tr>\n",
       "    <tr>\n",
       "      <th>7</th>\n",
       "      <td>Polio</td>\n",
       "      <td>0.099594</td>\n",
       "    </tr>\n",
       "    <tr>\n",
       "      <th>8</th>\n",
       "      <td>Diphtheria</td>\n",
       "      <td>0.055628</td>\n",
       "    </tr>\n",
       "    <tr>\n",
       "      <th>9</th>\n",
       "      <td>HIV/AIDS</td>\n",
       "      <td>-0.133192</td>\n",
       "    </tr>\n",
       "    <tr>\n",
       "      <th>10</th>\n",
       "      <td>GDP</td>\n",
       "      <td>0.048383</td>\n",
       "    </tr>\n",
       "    <tr>\n",
       "      <th>11</th>\n",
       "      <td>Population</td>\n",
       "      <td>-0.010947</td>\n",
       "    </tr>\n",
       "    <tr>\n",
       "      <th>12</th>\n",
       "      <td>thinness  1-19 years</td>\n",
       "      <td>-0.111534</td>\n",
       "    </tr>\n",
       "    <tr>\n",
       "      <th>13</th>\n",
       "      <td>Schooling</td>\n",
       "      <td>0.404956</td>\n",
       "    </tr>\n",
       "    <tr>\n",
       "      <th>14</th>\n",
       "      <td>Binary Status</td>\n",
       "      <td>0.029642</td>\n",
       "    </tr>\n",
       "  </tbody>\n",
       "</table>\n",
       "</div>"
      ],
      "text/plain": [
       "                  Features     Betas\n",
       "0                    Noise  0.000000\n",
       "1          Adult Mortality -0.339722\n",
       "2   percentage expenditure  0.020069\n",
       "3              Hepatitis B  0.041306\n",
       "4                  Measles  0.057651\n",
       "5                      BMI  0.032714\n",
       "6        under-five deaths -0.015270\n",
       "7                    Polio  0.099594\n",
       "8               Diphtheria  0.055628\n",
       "9                 HIV/AIDS -0.133192\n",
       "10                     GDP  0.048383\n",
       "11              Population -0.010947\n",
       "12    thinness  1-19 years -0.111534\n",
       "13               Schooling  0.404956\n",
       "14           Binary Status  0.029642"
      ]
     },
     "execution_count": 22,
     "metadata": {},
     "output_type": "execute_result"
    }
   ],
   "source": [
    "betas"
   ]
  },
  {
   "cell_type": "markdown",
   "metadata": {},
   "source": [
    "##### Lasso model has hyper-parameter (lambda),which penalize overcomplex models (big features spaces), by shrinking the betas estimated towards to zero to get the best accuracy of the mode with the best bias-variance trade of.\n",
    "\n",
    "- The value of the lambda, where the R2 has a better performance on test data, will be found on the tuning phase."
   ]
  },
  {
   "cell_type": "markdown",
   "metadata": {},
   "source": [
    "#### Why those hyper-parameters and not others? What's their role in the bias-variance trade-off?"
   ]
  },
  {
   "cell_type": "markdown",
   "metadata": {},
   "source": [
    "- On ML model, overfitting means a big feature space, which depends of the training set in consecuense has a high variance on the other hand, underfitting is a reduced features space, almost independet of the training set, which means the model is wrong as is almost independent of the train test.\n",
    "\n",
    "##### The Bias-Variance trade-off theorem say that there is a balance point where we minimize de MSE.\n",
    "\n",
    "-On Regression:\n",
    "\n",
    "- -Overfitting means high betas and low lambda --> High Variance\n",
    "- -Underfitting means low betas and high lambda --> Wrong assumption the outcome is independent of the features"
   ]
  },
  {
   "cell_type": "markdown",
   "metadata": {},
   "source": [
    "#### Show how you tune your proposed pipeline and on which portion of the data."
   ]
  },
  {
   "cell_type": "markdown",
   "metadata": {},
   "source": [
    "- Here we are going to train the same model, with different lambda."
   ]
  },
  {
   "cell_type": "code",
   "execution_count": 23,
   "metadata": {},
   "outputs": [],
   "source": [
    "R2s_train = [] # Empty array \n",
    "R2s_test = [] # Empty array \n",
    "alphas = np.logspace(-2, 1, 100) # Creates an arrays of alphas\n",
    "\n",
    "# Trying all alphas\n",
    "for a in alphas:\n",
    "    R2_train = [] # Empty array\n",
    "    R2_test = [] # Empty array\n",
    "    \n",
    "    # Standardising outcome data\n",
    "    scaler = StandardScaler()\n",
    "    scaler.fit(outcome_train)\n",
    "    outcome_train = scaler.transform(outcome_train) \n",
    "    outcome_test = scaler.transform(outcome_test)\n",
    "\n",
    "    # For each alpha, perform k-fold cross validation\n",
    "    for train_index, test_index in kf.split(features_tuning):\n",
    "        features_train, features_test = features_tuning.iloc[train_index], features_tuning.iloc[test_index]\n",
    "        outcome_train, outcome_test = outcome_tuning.iloc[train_index], outcome_tuning.iloc[test_index]\n",
    "    \n",
    "        # Pipeline on feature data\n",
    "        pipe = Pipeline([('scaler', StandardScaler()), # scaling feature data\n",
    "                         ('poly', PolynomialFeatures(1)), # polynomial features\n",
    "                         ('lm', Lasso(alpha = a, tol=2*1e-1))]) # training a Lasso regression model    \n",
    "    \n",
    "        # Fitting our pipeline on train data\n",
    "        pipe.fit(features_train, outcome_train)\n",
    "        \n",
    "        # Updating the vector of accuracies for a single fold\n",
    "        R2_train.append( pipe.score(features_train, outcome_train) )\n",
    "        R2_test.append( pipe.score(features_test, outcome_test) )\n",
    "\n",
    "    # Updating the vector of accuracies for a specific alpha value\n",
    "    R2s_train.append( np.mean(R2_train) )\n",
    "    R2s_test.append( np.mean(R2_test) )\n",
    "\n"
   ]
  },
  {
   "cell_type": "markdown",
   "metadata": {},
   "source": [
    "#### Estimated accuracy of the model"
   ]
  },
  {
   "cell_type": "code",
   "execution_count": 24,
   "metadata": {},
   "outputs": [
    {
     "data": {
      "text/html": [
       "<div>\n",
       "<style scoped>\n",
       "    .dataframe tbody tr th:only-of-type {\n",
       "        vertical-align: middle;\n",
       "    }\n",
       "\n",
       "    .dataframe tbody tr th {\n",
       "        vertical-align: top;\n",
       "    }\n",
       "\n",
       "    .dataframe thead th {\n",
       "        text-align: right;\n",
       "    }\n",
       "</style>\n",
       "<table border=\"1\" class=\"dataframe\">\n",
       "  <thead>\n",
       "    <tr style=\"text-align: right;\">\n",
       "      <th></th>\n",
       "      <th>alpha</th>\n",
       "      <th>R2_train</th>\n",
       "      <th>R2_test</th>\n",
       "    </tr>\n",
       "  </thead>\n",
       "  <tbody>\n",
       "    <tr>\n",
       "      <th>count</th>\n",
       "      <td>100.000000</td>\n",
       "      <td>100.000000</td>\n",
       "      <td>100.000000</td>\n",
       "    </tr>\n",
       "    <tr>\n",
       "      <th>mean</th>\n",
       "      <td>1.482369</td>\n",
       "      <td>0.721545</td>\n",
       "      <td>0.649561</td>\n",
       "    </tr>\n",
       "    <tr>\n",
       "      <th>std</th>\n",
       "      <td>2.352746</td>\n",
       "      <td>0.250007</td>\n",
       "      <td>0.230790</td>\n",
       "    </tr>\n",
       "    <tr>\n",
       "      <th>min</th>\n",
       "      <td>0.010000</td>\n",
       "      <td>0.000000</td>\n",
       "      <td>-0.032997</td>\n",
       "    </tr>\n",
       "    <tr>\n",
       "      <th>25%</th>\n",
       "      <td>0.056260</td>\n",
       "      <td>0.753273</td>\n",
       "      <td>0.713977</td>\n",
       "    </tr>\n",
       "    <tr>\n",
       "      <th>50%</th>\n",
       "      <td>0.316420</td>\n",
       "      <td>0.844353</td>\n",
       "      <td>0.733388</td>\n",
       "    </tr>\n",
       "    <tr>\n",
       "      <th>75%</th>\n",
       "      <td>1.779101</td>\n",
       "      <td>0.848297</td>\n",
       "      <td>0.768664</td>\n",
       "    </tr>\n",
       "    <tr>\n",
       "      <th>max</th>\n",
       "      <td>10.000000</td>\n",
       "      <td>0.851606</td>\n",
       "      <td>0.792191</td>\n",
       "    </tr>\n",
       "  </tbody>\n",
       "</table>\n",
       "</div>"
      ],
      "text/plain": [
       "            alpha    R2_train     R2_test\n",
       "count  100.000000  100.000000  100.000000\n",
       "mean     1.482369    0.721545    0.649561\n",
       "std      2.352746    0.250007    0.230790\n",
       "min      0.010000    0.000000   -0.032997\n",
       "25%      0.056260    0.753273    0.713977\n",
       "50%      0.316420    0.844353    0.733388\n",
       "75%      1.779101    0.848297    0.768664\n",
       "max     10.000000    0.851606    0.792191"
      ]
     },
     "execution_count": 24,
     "metadata": {},
     "output_type": "execute_result"
    }
   ],
   "source": [
    "accuraciesLasso = pd.DataFrame({\"alpha\": alphas,\"R2_train\": R2s_train,\"R2_test\": R2s_test})\n",
    "accuraciesLasso.describe()"
   ]
  },
  {
   "cell_type": "markdown",
   "metadata": {},
   "source": [
    "- Hyper-parameter (lambda) that maximize the accuracy of our model on Test Data."
   ]
  },
  {
   "cell_type": "code",
   "execution_count": 25,
   "metadata": {},
   "outputs": [
    {
     "name": "stdout",
     "output_type": "stream",
     "text": [
      "tuned alpha: 0.3511191734215131\n"
     ]
    }
   ],
   "source": [
    "tunedAlpha = alphas[np.argmax(R2s_test)]\n",
    "print(\"tuned alpha:\", tunedAlpha)"
   ]
  },
  {
   "cell_type": "markdown",
   "metadata": {},
   "source": [
    "- Graphic description of the accuracy on test data across lambda"
   ]
  },
  {
   "cell_type": "code",
   "execution_count": 26,
   "metadata": {},
   "outputs": [
    {
     "data": {
      "image/png": "[encoded data removed]",
      "text/plain": [
       "<Figure size 864x648 with 1 Axes>"
      ]
     },
     "metadata": {},
     "output_type": "display_data"
    }
   ],
   "source": [
    "sb.set(rc={'figure.figsize':(12,9)})\n",
    "plot = sb.lineplot(data = pd.melt(accuraciesLasso, id_vars=['alpha'], value_vars=['R2_train', 'R2_test']),\n",
    "                   x=\"alpha\", y=\"value\", hue=\"variable\")\n",
    "plot.set_xscale('log')"
   ]
  },
  {
   "cell_type": "markdown",
   "metadata": {},
   "source": [
    "#### 3.- Conclusion with the new model\n",
    "- Validate your tuned model.\n",
    "- Discuss whether your final tuned model overfits or underfits.\n",
    "- Compare the accuracy of your final tuned model with the accuracy you got in the previous section (non-tuned model)."
   ]
  },
  {
   "cell_type": "code",
   "execution_count": 27,
   "metadata": {},
   "outputs": [
    {
     "name": "stdout",
     "output_type": "stream",
     "text": [
      "R2 on tuning data: 0.8456982164277148\n",
      "R2 on validation data: 0.7855375409014681\n"
     ]
    }
   ],
   "source": [
    "# Building a pipeline\n",
    "pipe = Pipeline([('scaler', StandardScaler()), # scaling features\n",
    "                 ('poly', PolynomialFeatures(1)), # polynomial features\n",
    "                 ('lm', Lasso(alpha = tunedAlpha, tol=1e-1))]) # training a linear regression model \n",
    "\n",
    "pipe.fit(features_tuning, outcome_tuning)\n",
    "\n",
    "outcome_tuning_pred = pipe.predict(features_tuning)\n",
    "outcome_val_pred = pipe.predict(features_val)\n",
    "\n",
    "# Accuracy scores\n",
    "R2_tuning = pipe.score(features_tuning, outcome_tuning) \n",
    "R2_val = pipe.score(features_val, outcome_val)\n",
    "\n",
    "print(\"R2 on tuning data:\", R2_tuning)\n",
    "print(\"R2 on validation data:\", R2_val)"
   ]
  },
  {
   "cell_type": "code",
   "execution_count": 28,
   "metadata": {},
   "outputs": [],
   "source": [
    "# Training a Lasso regression model, alpha is the tuned one\n",
    "lassotuned = Lasso(alpha=tunedAlpha)\n",
    "lassotuned.fit(features_pol, outcome_sc)\n",
    "betastuned = pd.DataFrame({\"Features\":features_list,\"Betas\": lassotuned.coef_.ravel()})"
   ]
  },
  {
   "cell_type": "markdown",
   "metadata": {},
   "source": [
    "## 4. Model interpretation (*Optional*)\n",
    "\n",
    "- Explain whether your proposed pipeline is human interpretable.\n",
    "- Discuss whether features contain any multicollinearity and if this is a problem for your model interpretability.\n",
    "- Perform any analysis necessary to show which features are most responsible for generating the final predictions.\n",
    "- Feel free to add visualisations to support your claims.\n",
    "- Feel free to comment on the stability of your findings."
   ]
  },
  {
   "cell_type": "markdown",
   "metadata": {},
   "source": [
    "- The pipeline has all the steps that a regression model has, which are interpretable, therefore it is."
   ]
  },
  {
   "cell_type": "markdown",
   "metadata": {},
   "source": [
    "- We can see that we have multicollinearity in some features"
   ]
  },
  {
   "cell_type": "code",
   "execution_count": 29,
   "metadata": {},
   "outputs": [
    {
     "data": {
      "text/plain": [
       "<AxesSubplot:>"
      ]
     },
     "execution_count": 29,
     "metadata": {},
     "output_type": "execute_result"
    },
    {
     "data": {
      "image/png": "[encoded data removed]",
      "text/plain": [
       "<Figure size 864x648 with 2 Axes>"
      ]
     },
     "metadata": {},
     "output_type": "display_data"
    }
   ],
   "source": [
    "cmap = sb.diverging_palette(50, 25, as_cmap=False)\n",
    "sb.heatmap(features_tuning.corr()**2, cmap=cmap, center=0, square=False, linewidths=1)"
   ]
  },
  {
   "cell_type": "markdown",
   "metadata": {},
   "source": [
    "##### As we explain before, higher betas show us a bigger responsability on the change of our outcome and we can see that \"Adult Mortality\" and \"Schooling\" are the most relevant features."
   ]
  },
  {
   "cell_type": "code",
   "execution_count": 30,
   "metadata": {},
   "outputs": [
    {
     "data": {
      "text/html": [
       "<div>\n",
       "<style scoped>\n",
       "    .dataframe tbody tr th:only-of-type {\n",
       "        vertical-align: middle;\n",
       "    }\n",
       "\n",
       "    .dataframe tbody tr th {\n",
       "        vertical-align: top;\n",
       "    }\n",
       "\n",
       "    .dataframe thead th {\n",
       "        text-align: right;\n",
       "    }\n",
       "</style>\n",
       "<table border=\"1\" class=\"dataframe\">\n",
       "  <thead>\n",
       "    <tr style=\"text-align: right;\">\n",
       "      <th></th>\n",
       "      <th>Features</th>\n",
       "      <th>Betas</th>\n",
       "    </tr>\n",
       "  </thead>\n",
       "  <tbody>\n",
       "    <tr>\n",
       "      <th>0</th>\n",
       "      <td>Noise</td>\n",
       "      <td>0.000000</td>\n",
       "    </tr>\n",
       "    <tr>\n",
       "      <th>1</th>\n",
       "      <td>Adult Mortality</td>\n",
       "      <td>-0.214679</td>\n",
       "    </tr>\n",
       "    <tr>\n",
       "      <th>2</th>\n",
       "      <td>percentage expenditure</td>\n",
       "      <td>0.000000</td>\n",
       "    </tr>\n",
       "    <tr>\n",
       "      <th>3</th>\n",
       "      <td>Hepatitis B</td>\n",
       "      <td>0.000000</td>\n",
       "    </tr>\n",
       "    <tr>\n",
       "      <th>4</th>\n",
       "      <td>Measles</td>\n",
       "      <td>-0.000000</td>\n",
       "    </tr>\n",
       "    <tr>\n",
       "      <th>5</th>\n",
       "      <td>BMI</td>\n",
       "      <td>0.000000</td>\n",
       "    </tr>\n",
       "    <tr>\n",
       "      <th>6</th>\n",
       "      <td>under-five deaths</td>\n",
       "      <td>-0.000000</td>\n",
       "    </tr>\n",
       "    <tr>\n",
       "      <th>7</th>\n",
       "      <td>Polio</td>\n",
       "      <td>0.000000</td>\n",
       "    </tr>\n",
       "    <tr>\n",
       "      <th>8</th>\n",
       "      <td>Diphtheria</td>\n",
       "      <td>0.000000</td>\n",
       "    </tr>\n",
       "    <tr>\n",
       "      <th>9</th>\n",
       "      <td>HIV/AIDS</td>\n",
       "      <td>-0.000000</td>\n",
       "    </tr>\n",
       "    <tr>\n",
       "      <th>10</th>\n",
       "      <td>GDP</td>\n",
       "      <td>0.000000</td>\n",
       "    </tr>\n",
       "    <tr>\n",
       "      <th>11</th>\n",
       "      <td>Population</td>\n",
       "      <td>-0.000000</td>\n",
       "    </tr>\n",
       "    <tr>\n",
       "      <th>12</th>\n",
       "      <td>thinness  1-19 years</td>\n",
       "      <td>-0.000000</td>\n",
       "    </tr>\n",
       "    <tr>\n",
       "      <th>13</th>\n",
       "      <td>Schooling</td>\n",
       "      <td>0.354898</td>\n",
       "    </tr>\n",
       "    <tr>\n",
       "      <th>14</th>\n",
       "      <td>Binary Status</td>\n",
       "      <td>0.000000</td>\n",
       "    </tr>\n",
       "  </tbody>\n",
       "</table>\n",
       "</div>"
      ],
      "text/plain": [
       "                  Features     Betas\n",
       "0                    Noise  0.000000\n",
       "1          Adult Mortality -0.214679\n",
       "2   percentage expenditure  0.000000\n",
       "3              Hepatitis B  0.000000\n",
       "4                  Measles -0.000000\n",
       "5                      BMI  0.000000\n",
       "6        under-five deaths -0.000000\n",
       "7                    Polio  0.000000\n",
       "8               Diphtheria  0.000000\n",
       "9                 HIV/AIDS -0.000000\n",
       "10                     GDP  0.000000\n",
       "11              Population -0.000000\n",
       "12    thinness  1-19 years -0.000000\n",
       "13               Schooling  0.354898\n",
       "14           Binary Status  0.000000"
      ]
     },
     "execution_count": 30,
     "metadata": {},
     "output_type": "execute_result"
    }
   ],
   "source": [
    "betastuned"
   ]
  },
  {
   "cell_type": "markdown",
   "metadata": {},
   "source": [
    "#### The stability of the model lays on three concepts:\n",
    "- Normality of residuals\n",
    "- Independence of residuals\n",
    "- No multicollinearity of predictors (explained before)"
   ]
  },
  {
   "cell_type": "code",
   "execution_count": 31,
   "metadata": {},
   "outputs": [],
   "source": [
    "validation = pd.DataFrame({\"actual\": outcome_val.Life_Expectancy.values, \"fitted\": outcome_val_pred})\n",
    "validation[\"residuals\"] = validation.actual - validation.fitted\n",
    "#validation.describe()"
   ]
  },
  {
   "cell_type": "markdown",
   "metadata": {},
   "source": [
    "##### Normality of the residuals"
   ]
  },
  {
   "cell_type": "code",
   "execution_count": 32,
   "metadata": {},
   "outputs": [
    {
     "data": {
      "text/plain": [
       "<seaborn.axisgrid.FacetGrid at 0x27b49f9cfd0>"
      ]
     },
     "execution_count": 32,
     "metadata": {},
     "output_type": "execute_result"
    },
    {
     "data": {
      "image/png": "[encoded data removed]",
      "text/plain": [
       "<Figure size 360x360 with 1 Axes>"
      ]
     },
     "metadata": {},
     "output_type": "display_data"
    }
   ],
   "source": [
    "sb.set(rc={'figure.figsize':(4,3)})\n",
    "sb.displot(validation, x=\"residuals\", kde=True)"
   ]
  },
  {
   "cell_type": "markdown",
   "metadata": {},
   "source": [
    "#### Independence of residuals"
   ]
  },
  {
   "cell_type": "markdown",
   "metadata": {},
   "source": [
    "- As we can see, the \"Independence of residuals\" has a pattern which means that we can improve our function by using other polynomial grade such as cuadratic."
   ]
  },
  {
   "cell_type": "code",
   "execution_count": 34,
   "metadata": {},
   "outputs": [
    {
     "data": {
      "text/plain": [
       "<seaborn.axisgrid.FacetGrid at 0x27b49fa1040>"
      ]
     },
     "execution_count": 34,
     "metadata": {},
     "output_type": "execute_result"
    },
    {
     "data": {
      "image/png": "[encoded data removed]",
      "text/plain": [
       "<Figure size 360x360 with 1 Axes>"
      ]
     },
     "metadata": {},
     "output_type": "display_data"
    }
   ],
   "source": [
    "sb.set(rc={'figure.figsize':(4,3)})\n",
    "sb.lmplot(data=validation, x=\"actual\", y=\"residuals\", scatter_kws={'alpha':1})"
   ]
  },
  {
   "cell_type": "code",
   "execution_count": 35,
   "metadata": {},
   "outputs": [
    {
     "data": {
      "text/plain": [
       "<seaborn.axisgrid.FacetGrid at 0x27b49983b80>"
      ]
     },
     "execution_count": 35,
     "metadata": {},
     "output_type": "execute_result"
    },
    {
     "data": {
      "image/png": "[encoded data removed]",
      "text/plain": [
       "<Figure size 360x360 with 1 Axes>"
      ]
     },
     "metadata": {},
     "output_type": "display_data"
    }
   ],
   "source": [
    "sb.set(rc={'figure.figsize':(4,3)})\n",
    "sb.lmplot(data=validation, x=\"fitted\", y=\"residuals\", scatter_kws={'alpha':1})"
   ]
  },
  {
   "cell_type": "markdown",
   "metadata": {},
   "source": [
    "## 4. Discussion: pros/cons and time complexity of the designed pipeline\n",
    "\n",
    "- Summarise the introduced pipeline in your own words.\n",
    "- Introduce the time complexity of the full introduced pipeline.\n",
    "- Discuss which are the steps having the highest impact on time execution, especially to handle a larger dataset.\n",
    "- Present its strengths and limitations.\n",
    "- Discuss any possible way to improve it. \n"
   ]
  },
  {
   "cell_type": "markdown",
   "metadata": {},
   "source": [
    "##### The pipeline has four relevant phases, checking the features is for all the ML analysis is not going to be explained.\n",
    "\n",
    "- \"Train\" is the first stage, where we split our dataset in \"train\" & \"test\", we create out k-fold, standardise the features to train.\n",
    "\n",
    "- In the \"Tune\" phase, we will get the hyper-parameter that maximize our R2 on the unseen data.\n",
    "\n",
    "- In the \"Validate\", we will get the unbiased estimate of the accuracy\n",
    "\n",
    "- In \"Predict\", if our model has a good accuracy with the hyper-parameter that we defined before we train our model with the whole dataset to get the real accuracy of it to predict."
   ]
  },
  {
   "cell_type": "markdown",
   "metadata": {},
   "source": [
    "#### The total time-complexity of Lasso with tuning phase is O(a⋅k⋅n2⋅m), where:\n",
    "\n",
    "- a is the number if α parameters to test: 100\n",
    "- k is the number of folds in the k-fold cross validations: 6\n",
    "- n is the number of observations: 130\n",
    "- m is the number of features: 14\n",
    "\n",
    "Large datasets means m & n, the only \"parameters\" that we can control on the time complexity are the a and k. "
   ]
  },
  {
   "cell_type": "markdown",
   "metadata": {},
   "source": [
    "##### The strength of this models is the high interpretability, as we know clearly which are the relevant features for the prediction.\n",
    "\n",
    "##### The weakness is that you must create a whole pipeline we want to try other polynomial expression such as cuadratic over the linear that we model.    "
   ]
  },
  {
   "cell_type": "markdown",
   "metadata": {},
   "source": [
    "#### The accuracy of the prediction can be improved in two different ways:\n",
    "\n",
    "- Setting a different polynomial degreee for the function that is modelling our outcome.\n",
    "\n",
    "- Changing the ML model that we use, such as Random Forrest, but we would be lossing the interpretability of the model."
   ]
  }
 ],
 "metadata": {
  "kernelspec": {
   "display_name": "Python 3 (ipykernel)",
   "language": "python",
   "name": "python3"
  },
  "language_info": {
   "codemirror_mode": {
    "name": "ipython",
    "version": 3
   },
   "file_extension": ".py",
   "mimetype": "text/x-python",
   "name": "python",
   "nbconvert_exporter": "python",
   "pygments_lexer": "ipython3",
   "version": "3.9.12"
  }
 },
 "nbformat": 4,
 "nbformat_minor": 4
}
